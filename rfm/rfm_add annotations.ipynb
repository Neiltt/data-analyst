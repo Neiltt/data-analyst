{
 "cells": [
  {
   "cell_type": "code",
   "execution_count": 1,
   "id": "971d88da",
   "metadata": {},
   "outputs": [],
   "source": [
    "# RFM分 以便更好地了解客戶的需求和購買行為，以圖表可視化，提供決策參考依據\n",
    "# 利用Jupyter Notebook使用 Python模組 pandas、datetime、numpy數值計算 和 matplotlib 資料視覺化，對零售業的客戶資料進行 RFM 分析\n"
   ]
  },
  {
   "cell_type": "code",
   "execution_count": 2,
   "id": "9f151b3e",
   "metadata": {},
   "outputs": [],
   "source": [
    "# 導入套件\n",
    "import pandas as pd\n",
    "import datetime as dt\n",
    "import numpy as np\n",
    "import matplotlib.pyplot as plt"
   ]
  },
  {
   "cell_type": "code",
   "execution_count": 3,
   "id": "4724002f",
   "metadata": {},
   "outputs": [
    {
     "name": "stdout",
     "output_type": "stream",
     "text": [
      "df.head\n"
     ]
    },
    {
     "data": {
      "text/plain": [
       "<bound method NDFrame.head of        InvoiceNo StockCode                          Description  Quantity  \\\n",
       "0         536365    85123A   WHITE HANGING HEART T-LIGHT HOLDER         6   \n",
       "1         536365     71053                  WHITE METAL LANTERN         6   \n",
       "2         536365    84406B       CREAM CUPID HEARTS COAT HANGER         8   \n",
       "3         536365    84029G  KNITTED UNION FLAG HOT WATER BOTTLE         6   \n",
       "4         536365    84029E       RED WOOLLY HOTTIE WHITE HEART.         6   \n",
       "...          ...       ...                                  ...       ...   \n",
       "541904    581587     22613          PACK OF 20 SPACEBOY NAPKINS        12   \n",
       "541905    581587     22899         CHILDREN'S APRON DOLLY GIRL          6   \n",
       "541906    581587     23254        CHILDRENS CUTLERY DOLLY GIRL          4   \n",
       "541907    581587     23255      CHILDRENS CUTLERY CIRCUS PARADE         4   \n",
       "541908    581587     22138        BAKING SET 9 PIECE RETROSPOT          3   \n",
       "\n",
       "            InvoiceDate  UnitPrice  CustomerID         Country  \n",
       "0        12/1/2010 8:26       2.55     17850.0  United Kingdom  \n",
       "1        12/1/2010 8:26       3.39     17850.0  United Kingdom  \n",
       "2        12/1/2010 8:26       2.75     17850.0  United Kingdom  \n",
       "3        12/1/2010 8:26       3.39     17850.0  United Kingdom  \n",
       "4        12/1/2010 8:26       3.39     17850.0  United Kingdom  \n",
       "...                 ...        ...         ...             ...  \n",
       "541904  12/9/2011 12:50       0.85     12680.0          France  \n",
       "541905  12/9/2011 12:50       2.10     12680.0          France  \n",
       "541906  12/9/2011 12:50       4.15     12680.0          France  \n",
       "541907  12/9/2011 12:50       4.15     12680.0          France  \n",
       "541908  12/9/2011 12:50       4.95     12680.0          France  \n",
       "\n",
       "[541909 rows x 8 columns]>"
      ]
     },
     "execution_count": 3,
     "metadata": {},
     "output_type": "execute_result"
    }
   ],
   "source": [
    "# 讀取資料\n",
    "    # 中文字符，使用 encoding='utf-8' 或 encoding='unicode_escape'\n",
    "    # 英文和數字字符，使用 encoding='ascii'\n",
    "df = pd.read_csv(\"./data.csv\", encoding= 'unicode_escape')\n",
    "\n",
    "# 顯示資料前五筆\n",
    "print(\"df.head\")\n",
    "df.head"
   ]
  },
  {
   "cell_type": "code",
   "execution_count": 4,
   "id": "93b27294",
   "metadata": {},
   "outputs": [
    {
     "name": "stdout",
     "output_type": "stream",
     "text": [
      "df.apply(lambda x :sum(x.isnull())/len(x), axis=0)\n"
     ]
    },
    {
     "data": {
      "text/plain": [
       "InvoiceNo      0.000000\n",
       "StockCode      0.000000\n",
       "Description    0.002683\n",
       "Quantity       0.000000\n",
       "InvoiceDate    0.000000\n",
       "UnitPrice      0.000000\n",
       "CustomerID     0.249267\n",
       "Country        0.000000\n",
       "dtype: float64"
      ]
     },
     "execution_count": 4,
     "metadata": {},
     "output_type": "execute_result"
    }
   ],
   "source": [
    "# 計算每個欄位缺失值比例\n",
    "    # 註解：檢查資料中是否有遺失值，如果有遺失值，則需要進行處理\n",
    "    # 直行橫列，舉例(1)\n",
    "print(\"df.apply(lambda x :sum(x.isnull())/len(x), axis=0)\")\n",
    "df.apply(lambda x :sum(x.isnull())/len(x), axis=0)"
   ]
  },
  {
   "cell_type": "code",
   "execution_count": 5,
   "id": "d18ef7b8",
   "metadata": {},
   "outputs": [
    {
     "name": "stdout",
     "output_type": "stream",
     "text": [
      "df[['date', 'month']]\n"
     ]
    },
    {
     "data": {
      "text/html": [
       "<div>\n",
       "<style scoped>\n",
       "    .dataframe tbody tr th:only-of-type {\n",
       "        vertical-align: middle;\n",
       "    }\n",
       "\n",
       "    .dataframe tbody tr th {\n",
       "        vertical-align: top;\n",
       "    }\n",
       "\n",
       "    .dataframe thead th {\n",
       "        text-align: right;\n",
       "    }\n",
       "</style>\n",
       "<table border=\"1\" class=\"dataframe\">\n",
       "  <thead>\n",
       "    <tr style=\"text-align: right;\">\n",
       "      <th></th>\n",
       "      <th>date</th>\n",
       "      <th>month</th>\n",
       "    </tr>\n",
       "  </thead>\n",
       "  <tbody>\n",
       "    <tr>\n",
       "      <th>0</th>\n",
       "      <td>2010-12-01</td>\n",
       "      <td>2010-12</td>\n",
       "    </tr>\n",
       "    <tr>\n",
       "      <th>1</th>\n",
       "      <td>2010-12-01</td>\n",
       "      <td>2010-12</td>\n",
       "    </tr>\n",
       "    <tr>\n",
       "      <th>2</th>\n",
       "      <td>2010-12-01</td>\n",
       "      <td>2010-12</td>\n",
       "    </tr>\n",
       "    <tr>\n",
       "      <th>3</th>\n",
       "      <td>2010-12-01</td>\n",
       "      <td>2010-12</td>\n",
       "    </tr>\n",
       "    <tr>\n",
       "      <th>4</th>\n",
       "      <td>2010-12-01</td>\n",
       "      <td>2010-12</td>\n",
       "    </tr>\n",
       "    <tr>\n",
       "      <th>...</th>\n",
       "      <td>...</td>\n",
       "      <td>...</td>\n",
       "    </tr>\n",
       "    <tr>\n",
       "      <th>541904</th>\n",
       "      <td>2011-12-09</td>\n",
       "      <td>2011-12</td>\n",
       "    </tr>\n",
       "    <tr>\n",
       "      <th>541905</th>\n",
       "      <td>2011-12-09</td>\n",
       "      <td>2011-12</td>\n",
       "    </tr>\n",
       "    <tr>\n",
       "      <th>541906</th>\n",
       "      <td>2011-12-09</td>\n",
       "      <td>2011-12</td>\n",
       "    </tr>\n",
       "    <tr>\n",
       "      <th>541907</th>\n",
       "      <td>2011-12-09</td>\n",
       "      <td>2011-12</td>\n",
       "    </tr>\n",
       "    <tr>\n",
       "      <th>541908</th>\n",
       "      <td>2011-12-09</td>\n",
       "      <td>2011-12</td>\n",
       "    </tr>\n",
       "  </tbody>\n",
       "</table>\n",
       "<p>541909 rows × 2 columns</p>\n",
       "</div>"
      ],
      "text/plain": [
       "             date    month\n",
       "0      2010-12-01  2010-12\n",
       "1      2010-12-01  2010-12\n",
       "2      2010-12-01  2010-12\n",
       "3      2010-12-01  2010-12\n",
       "4      2010-12-01  2010-12\n",
       "...           ...      ...\n",
       "541904 2011-12-09  2011-12\n",
       "541905 2011-12-09  2011-12\n",
       "541906 2011-12-09  2011-12\n",
       "541907 2011-12-09  2011-12\n",
       "541908 2011-12-09  2011-12\n",
       "\n",
       "[541909 rows x 2 columns]"
      ]
     },
     "execution_count": 5,
     "metadata": {},
     "output_type": "execute_result"
    }
   ],
   "source": [
    "# 將日期欄位轉換成日期格式\n",
    "df['date'] = [x.split(' ')[0] for x in df[\"InvoiceDate\"]]\n",
    "df['date'] = pd.to_datetime(df['date'])\n",
    "\n",
    "# 將日期欄位轉換成月份格式\n",
    "df['month'] = df['date'].dt.to_period('M')\n",
    "\n",
    "# 顯示日期和月份欄位\n",
    "print(\"df[['date', 'month']]\")\n",
    "df[['date', 'month']]\n"
   ]
  },
  {
   "cell_type": "code",
   "execution_count": 6,
   "id": "82e27ef4",
   "metadata": {},
   "outputs": [],
   "source": [
    "# 計算每個客戶最後一次消費日期距今的天數\n",
    "R_value = df.groupby('CustomerID')['date'].max()\n",
    "R_value = (df['date'].max() - R_value).dt.days"
   ]
  },
  {
   "cell_type": "code",
   "execution_count": 7,
   "id": "b636c7e2",
   "metadata": {},
   "outputs": [],
   "source": [
    "# 計算每個客戶的交易筆數\n",
    "F_value = df.groupby('CustomerID')['InvoiceNo'].nunique()"
   ]
  },
  {
   "cell_type": "code",
   "execution_count": null,
   "id": "aea7ceb0",
   "metadata": {},
   "outputs": [],
   "source": []
  },
  {
   "cell_type": "code",
   "execution_count": 8,
   "id": "bce195a0",
   "metadata": {},
   "outputs": [],
   "source": [
    "# 計算每個客戶的總交易金額\n",
    "df['amount'] = df['Quantity'] * df['UnitPrice']\n",
    "M_value = df.groupby('CustomerID')['InvoiceNo'].sum()\n",
    "M_value = df.groupby('CustomerID')['amount'].sum()"
   ]
  },
  {
   "cell_type": "code",
   "execution_count": 9,
   "id": "b2577720",
   "metadata": {},
   "outputs": [],
   "source": [
    "# 將R_value、F_value、M_value進行分箱\n",
    "R_bins = [0, 30, 90, 180, 360, 720]\n",
    "F_bins = [1, 2, 5, 10, 20, 5000]\n",
    "M_bins = [0, 500, 2000, 5000, 10000, 200000]\n",
    "R_score = pd.cut(R_value, R_bins, labels=[5,4,3,2,1], right=False)\n",
    "F_score = pd.cut(F_value, F_bins, labels=[1,2,3,4,5], right=False)\n",
    "M_score = pd.cut(M_value, M_bins, labels=[1,2,3,4,5], right=False)"
   ]
  },
  {
   "cell_type": "code",
   "execution_count": 10,
   "id": "c45aafb2",
   "metadata": {},
   "outputs": [],
   "source": [
    "\n",
    "# 將R_score、F_score、M_score合併成一個資料表\n",
    "rfm = pd.concat([R_score, F_score, M_score], axis=1)\n",
    "\n",
    "# 重新命名欄位\n",
    "rfm.rename(columns={'date': 'R_score', 'InvoiceNo': 'F_score', 'amount': 'M_score'}, inplace=True)"
   ]
  },
  {
   "cell_type": "code",
   "execution_count": 11,
   "id": "ca61915f",
   "metadata": {},
   "outputs": [
    {
     "name": "stdout",
     "output_type": "stream",
     "text": [
      "rfm.describe()\n"
     ]
    }
   ],
   "source": [
    "# 將R_score、F_score、M_score轉換成數值型\n",
    "rfm['R_score'] = rfm['R_score'].astype('float')\n",
    "rfm['F_score'] = rfm['F_score'].astype('float')\n",
    "rfm['M_score'] = rfm['M_score'].astype('float')\n",
    "\n",
    "# 顯示資料描述\n",
    "print(\"rfm.describe()\")\n",
    "rfm.describe()\n",
    "\n",
    "# 將R_score、F_score、M_score轉換成文字型\n",
    "rfm['R'] = np.where(rfm['R_score'] > 3.82, '高', '低')\n",
    "rfm['F'] = np.where(rfm['F_score'] > 2.03, '高', '低')\n",
    "rfm['M'] = np.where(rfm['M_score'] > 1.89, '高', '低')"
   ]
  },
  {
   "cell_type": "code",
   "execution_count": 12,
   "id": "85ac269e",
   "metadata": {},
   "outputs": [],
   "source": [
    "# 將R、F、M三個欄位合併成一個欄位\n",
    "rfm['RFM'] = rfm['R'] + rfm['F'] + rfm['M']\n",
    "\n",
    "# 定義一個函數，將RFM欄位轉換成客戶類別\n",
    "def rfm2grade(x):\n",
    "  if x == '高高高':\n",
    "    return 'VIP'\n",
    "  elif x == \"高低高\":\n",
    "    return 'High Value Customer'\n",
    "  elif x == \"低高高\":\n",
    "    return 'Medium Value Customer'\n",
    "  elif x == '低低高':\n",
    "    return 'Lost Customer'\n",
    "  elif x == \"高高低\":\n",
    "    return 'Medium Value Customer'\n",
    "  else:\n",
    "    return 'Low Value Customer'"
   ]
  },
  {
   "cell_type": "code",
   "execution_count": 13,
   "id": "cf262238",
   "metadata": {},
   "outputs": [
    {
     "data": {
      "text/html": [
       "<div>\n",
       "<style scoped>\n",
       "    .dataframe tbody tr th:only-of-type {\n",
       "        vertical-align: middle;\n",
       "    }\n",
       "\n",
       "    .dataframe tbody tr th {\n",
       "        vertical-align: top;\n",
       "    }\n",
       "\n",
       "    .dataframe thead th {\n",
       "        text-align: right;\n",
       "    }\n",
       "</style>\n",
       "<table border=\"1\" class=\"dataframe\">\n",
       "  <thead>\n",
       "    <tr style=\"text-align: right;\">\n",
       "      <th></th>\n",
       "      <th>R_score</th>\n",
       "      <th>F_score</th>\n",
       "      <th>M_score</th>\n",
       "      <th>R</th>\n",
       "      <th>F</th>\n",
       "      <th>M</th>\n",
       "      <th>RFM</th>\n",
       "      <th>Customer_segment</th>\n",
       "    </tr>\n",
       "    <tr>\n",
       "      <th>CustomerID</th>\n",
       "      <th></th>\n",
       "      <th></th>\n",
       "      <th></th>\n",
       "      <th></th>\n",
       "      <th></th>\n",
       "      <th></th>\n",
       "      <th></th>\n",
       "      <th></th>\n",
       "    </tr>\n",
       "  </thead>\n",
       "  <tbody>\n",
       "    <tr>\n",
       "      <th>12346.0</th>\n",
       "      <td>2.0</td>\n",
       "      <td>2.0</td>\n",
       "      <td>1.0</td>\n",
       "      <td>低</td>\n",
       "      <td>低</td>\n",
       "      <td>低</td>\n",
       "      <td>低低低</td>\n",
       "      <td>Low Value Customer</td>\n",
       "    </tr>\n",
       "    <tr>\n",
       "      <th>12347.0</th>\n",
       "      <td>5.0</td>\n",
       "      <td>3.0</td>\n",
       "      <td>3.0</td>\n",
       "      <td>高</td>\n",
       "      <td>高</td>\n",
       "      <td>高</td>\n",
       "      <td>高高高</td>\n",
       "      <td>VIP</td>\n",
       "    </tr>\n",
       "    <tr>\n",
       "      <th>12348.0</th>\n",
       "      <td>4.0</td>\n",
       "      <td>2.0</td>\n",
       "      <td>2.0</td>\n",
       "      <td>高</td>\n",
       "      <td>低</td>\n",
       "      <td>高</td>\n",
       "      <td>高低高</td>\n",
       "      <td>High Value Customer</td>\n",
       "    </tr>\n",
       "    <tr>\n",
       "      <th>12349.0</th>\n",
       "      <td>5.0</td>\n",
       "      <td>1.0</td>\n",
       "      <td>2.0</td>\n",
       "      <td>高</td>\n",
       "      <td>低</td>\n",
       "      <td>高</td>\n",
       "      <td>高低高</td>\n",
       "      <td>High Value Customer</td>\n",
       "    </tr>\n",
       "    <tr>\n",
       "      <th>12350.0</th>\n",
       "      <td>2.0</td>\n",
       "      <td>1.0</td>\n",
       "      <td>1.0</td>\n",
       "      <td>低</td>\n",
       "      <td>低</td>\n",
       "      <td>低</td>\n",
       "      <td>低低低</td>\n",
       "      <td>Low Value Customer</td>\n",
       "    </tr>\n",
       "    <tr>\n",
       "      <th>...</th>\n",
       "      <td>...</td>\n",
       "      <td>...</td>\n",
       "      <td>...</td>\n",
       "      <td>...</td>\n",
       "      <td>...</td>\n",
       "      <td>...</td>\n",
       "      <td>...</td>\n",
       "      <td>...</td>\n",
       "    </tr>\n",
       "    <tr>\n",
       "      <th>18280.0</th>\n",
       "      <td>2.0</td>\n",
       "      <td>1.0</td>\n",
       "      <td>1.0</td>\n",
       "      <td>低</td>\n",
       "      <td>低</td>\n",
       "      <td>低</td>\n",
       "      <td>低低低</td>\n",
       "      <td>Low Value Customer</td>\n",
       "    </tr>\n",
       "    <tr>\n",
       "      <th>18281.0</th>\n",
       "      <td>2.0</td>\n",
       "      <td>1.0</td>\n",
       "      <td>1.0</td>\n",
       "      <td>低</td>\n",
       "      <td>低</td>\n",
       "      <td>低</td>\n",
       "      <td>低低低</td>\n",
       "      <td>Low Value Customer</td>\n",
       "    </tr>\n",
       "    <tr>\n",
       "      <th>18282.0</th>\n",
       "      <td>5.0</td>\n",
       "      <td>2.0</td>\n",
       "      <td>1.0</td>\n",
       "      <td>高</td>\n",
       "      <td>低</td>\n",
       "      <td>低</td>\n",
       "      <td>高低低</td>\n",
       "      <td>Low Value Customer</td>\n",
       "    </tr>\n",
       "    <tr>\n",
       "      <th>18283.0</th>\n",
       "      <td>5.0</td>\n",
       "      <td>4.0</td>\n",
       "      <td>3.0</td>\n",
       "      <td>高</td>\n",
       "      <td>高</td>\n",
       "      <td>高</td>\n",
       "      <td>高高高</td>\n",
       "      <td>VIP</td>\n",
       "    </tr>\n",
       "    <tr>\n",
       "      <th>18287.0</th>\n",
       "      <td>4.0</td>\n",
       "      <td>2.0</td>\n",
       "      <td>2.0</td>\n",
       "      <td>高</td>\n",
       "      <td>低</td>\n",
       "      <td>高</td>\n",
       "      <td>高低高</td>\n",
       "      <td>High Value Customer</td>\n",
       "    </tr>\n",
       "  </tbody>\n",
       "</table>\n",
       "<p>4372 rows × 8 columns</p>\n",
       "</div>"
      ],
      "text/plain": [
       "            R_score  F_score  M_score  R  F  M  RFM     Customer_segment\n",
       "CustomerID                                                              \n",
       "12346.0         2.0      2.0      1.0  低  低  低  低低低   Low Value Customer\n",
       "12347.0         5.0      3.0      3.0  高  高  高  高高高                  VIP\n",
       "12348.0         4.0      2.0      2.0  高  低  高  高低高  High Value Customer\n",
       "12349.0         5.0      1.0      2.0  高  低  高  高低高  High Value Customer\n",
       "12350.0         2.0      1.0      1.0  低  低  低  低低低   Low Value Customer\n",
       "...             ...      ...      ... .. .. ..  ...                  ...\n",
       "18280.0         2.0      1.0      1.0  低  低  低  低低低   Low Value Customer\n",
       "18281.0         2.0      1.0      1.0  低  低  低  低低低   Low Value Customer\n",
       "18282.0         5.0      2.0      1.0  高  低  低  高低低   Low Value Customer\n",
       "18283.0         5.0      4.0      3.0  高  高  高  高高高                  VIP\n",
       "18287.0         4.0      2.0      2.0  高  低  高  高低高  High Value Customer\n",
       "\n",
       "[4372 rows x 8 columns]"
      ]
     },
     "execution_count": 13,
     "metadata": {},
     "output_type": "execute_result"
    }
   ],
   "source": [
    "# 將RFM欄位轉換成客戶類別\n",
    "rfm['Customer_segment'] = rfm['RFM'].apply(rfm2grade)\n",
    "\n",
    "# 顯示資料\n",
    "rfm"
   ]
  },
  {
   "cell_type": "code",
   "execution_count": 14,
   "id": "1eefb385",
   "metadata": {},
   "outputs": [
    {
     "data": {
      "text/plain": [
       "<matplotlib.legend.Legend at 0x1bfc5c0b310>"
      ]
     },
     "execution_count": 14,
     "metadata": {},
     "output_type": "execute_result"
    },
    {
     "data": {
      "image/png": "[encoded data removed]",
      "text/plain": [
       "<Figure size 1500x900 with 1 Axes>"
      ]
     },
     "metadata": {},
     "output_type": "display_data"
    }
   ],
   "source": [
    "# 繪製RFM客戶類別分布圖\n",
    "rfm['Customer_segment'].value_counts().plot(kind='pie',\n",
    "                      figsize=(15, 9),\n",
    "                      autopct='%.1f%%',\n",
    "                      title='RFM',\n",
    "                      textprops={'fontsize': 8},\n",
    "                      subplots=True)\n",
    "plt.legend(loc=2, bbox_to_anchor=(1.05, 1.0), borderaxespad=0)"
   ]
  },
  {
   "cell_type": "code",
   "execution_count": null,
   "id": "cf92058a",
   "metadata": {},
   "outputs": [],
   "source": []
  }
 ],
 "metadata": {
  "kernelspec": {
   "display_name": "Python 3 (ipykernel)",
   "language": "python",
   "name": "python3"
  },
  "language_info": {
   "codemirror_mode": {
    "name": "ipython",
    "version": 3
   },
   "file_extension": ".py",
   "mimetype": "text/x-python",
   "name": "python",
   "nbconvert_exporter": "python",
   "pygments_lexer": "ipython3",
   "version": "3.11.5"
  }
 },
 "nbformat": 4,
 "nbformat_minor": 5
}
